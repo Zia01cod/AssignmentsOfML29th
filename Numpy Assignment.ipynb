{
 "cells": [
  {
   "cell_type": "code",
   "execution_count": 8,
   "metadata": {},
   "outputs": [],
   "source": [
    "import numpy as np\n",
    "import pandas as pd"
   ]
  },
  {
   "cell_type": "code",
   "execution_count": 9,
   "metadata": {},
   "outputs": [
    {
     "name": "stdout",
     "output_type": "stream",
     "text": [
      "[[   1    1    1    1    1    1]\n",
      " [   1    2    4    8   16   32]\n",
      " [   1    3    9   27   81  243]\n",
      " [   1    4   16   64  256 1024]\n",
      " [   1    5   25  125  625 3125]]\n"
     ]
    }
   ],
   "source": [
    "# Vandermonde Matrix\n",
    "def col_pow_of(v,ncols,increasing=True):\n",
    "    mat = np.zeros((len(v),ncols),dtype=int)\n",
    "    if increasing:\n",
    "        for i in range(ncols):\n",
    "            mat[:,i] = v**(i)\n",
    "    else:\n",
    "        for i in range(ncols):\n",
    "            mat[:,ncols-i-1] = v**(ncols-i-1)\n",
    "    return mat\n",
    "v = np.array([1,2,3,4,5])\n",
    "print(col_pow_of(v,6,increasing=False))"
   ]
  },
  {
   "cell_type": "code",
   "execution_count": 11,
   "metadata": {},
   "outputs": [
    {
     "name": "stdout",
     "output_type": "stream",
     "text": [
      "[  5.           4.66666667   5.66666667   6.66666667   9.66666667\n",
      "  28.66666667  49.33333333  72.66666667  84.          93.33333333\n",
      " 116.33333333]\n"
     ]
    }
   ],
   "source": [
    "# Moving Average Array\n",
    "def moving_avg_array(v,window_length):\n",
    "    ma_array = np.zeros(len(v)-window_length+1)\n",
    "    for i in range(len(ma_array)):\n",
    "        ma_array[i] = np.sum(v[i:i+window_length])/window_length\n",
    "    return ma_array\n",
    "v = [3, 5, 7, 2, 8, 10, 11, 65, 72, 81, 99, 100, 150]\n",
    "print(moving_avg_array(v,3))"
   ]
  }
 ],
 "metadata": {
  "kernelspec": {
   "display_name": "Python 3",
   "language": "python",
   "name": "python3"
  },
  "language_info": {
   "codemirror_mode": {
    "name": "ipython",
    "version": 3
   },
   "file_extension": ".py",
   "mimetype": "text/x-python",
   "name": "python",
   "nbconvert_exporter": "python",
   "pygments_lexer": "ipython3",
   "version": "3.8.3"
  }
 },
 "nbformat": 4,
 "nbformat_minor": 4
}
